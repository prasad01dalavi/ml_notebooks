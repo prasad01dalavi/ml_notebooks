{
 "cells": [
  {
   "cell_type": "code",
   "execution_count": 6,
   "metadata": {},
   "outputs": [
    {
     "name": "stdout",
     "output_type": "stream",
     "text": [
      "<class 'numpy.ndarray'>\n",
      "[[[ 7 16  6]\n",
      "  [11 20 10]\n",
      "  [16 25 15]\n",
      "  ...\n",
      "  [ 1  0  2]\n",
      "  [ 1  0  2]\n",
      "  [ 1  0  2]]\n",
      "\n",
      " [[ 3 11  1]\n",
      "  [ 2 11  1]\n",
      "  [ 3 12  2]\n",
      "  ...\n",
      "  [ 1  0  2]\n",
      "  [ 1  0  2]\n",
      "  [ 1  0  2]]\n",
      "\n",
      " [[ 2  6  0]\n",
      "  [ 0  4  0]\n",
      "  [ 0  3  0]\n",
      "  ...\n",
      "  [ 1  1  1]\n",
      "  [ 1  1  1]\n",
      "  [ 1  1  1]]\n",
      "\n",
      " ...\n",
      "\n",
      " [[ 5  8  6]\n",
      "  [ 0  1  0]\n",
      "  [ 0  2  0]\n",
      "  ...\n",
      "  [23 29 24]\n",
      "  [22 28 23]\n",
      "  [15 21 16]]\n",
      "\n",
      " [[ 5  8  6]\n",
      "  [ 0  1  0]\n",
      "  [ 0  2  0]\n",
      "  ...\n",
      "  [20 26 21]\n",
      "  [15 21 16]\n",
      "  [10 16 11]]\n",
      "\n",
      " [[ 6  9  7]\n",
      "  [ 0  1  0]\n",
      "  [ 0  3  1]\n",
      "  ...\n",
      "  [11 17 12]\n",
      "  [11 17 12]\n",
      "  [13 19 14]]]\n"
     ]
    }
   ],
   "source": [
    "import cv2\n",
    "\n",
    "\n",
    "img = cv2.imread(\"images/tree.jpeg\")\n",
    "print(type(img))\n",
    "print(img)\n",
    "cv2.imshow('Tree', img)\n",
    "cv2.waitKey(3000)\n",
    "cv2.destroyAllWindows()"
   ]
  },
  {
   "cell_type": "code",
   "execution_count": 8,
   "metadata": {},
   "outputs": [
    {
     "name": "stdout",
     "output_type": "stream",
     "text": [
      "[[12 16 21 ...  1  1  1]\n",
      " [ 7  7  8 ...  1  1  1]\n",
      " [ 4  1  0 ...  1  1  1]\n",
      " ...\n",
      " [ 7  0  1 ... 27 26 19]\n",
      " [ 7  0  1 ... 24 19 14]\n",
      " [ 8  0  2 ... 15 15 17]]\n"
     ]
    }
   ],
   "source": [
    "img_gray = cv2.imread(\"images/tree.jpeg\", 0)\n",
    "print(img_gray)\n",
    "cv2.imshow('Gray Tree', img)\n",
    "cv2.waitKey(3000)\n",
    "cv2.destroyAllWindows()"
   ]
  },
  {
   "cell_type": "code",
   "execution_count": 9,
   "metadata": {},
   "outputs": [
    {
     "data": {
      "text/plain": [
       "True"
      ]
     },
     "execution_count": 9,
     "metadata": {},
     "output_type": "execute_result"
    }
   ],
   "source": [
    "cv2.imwrite(\"cv2_output.jpg\", img_gray)"
   ]
  },
  {
   "cell_type": "code",
   "execution_count": 15,
   "metadata": {},
   "outputs": [
    {
     "name": "stdout",
     "output_type": "stream",
     "text": [
      "[[0. 0. 0. ... 0. 0. 0.]\n",
      " [0. 0. 0. ... 0. 0. 0.]\n",
      " [0. 0. 0. ... 0. 0. 0.]\n",
      " ...\n",
      " [0. 0. 0. ... 0. 0. 0.]\n",
      " [0. 0. 0. ... 0. 0. 0.]\n",
      " [0. 0. 0. ... 0. 0. 0.]]\n"
     ]
    }
   ],
   "source": [
    "import numpy as np\n",
    "\n",
    "canvas_image = np.zeros((512, 512))\n",
    "print(canvas_image)\n",
    "cv2.imshow('Canvas Image', canvas_image)\n",
    "cv2.waitKey(2000)\n",
    "cv2.destroyWindow(\"Canvas Image\")"
   ]
  },
  {
   "cell_type": "markdown",
   "metadata": {},
   "source": [
    "## WebCam"
   ]
  },
  {
   "cell_type": "code",
   "execution_count": null,
   "metadata": {},
   "outputs": [],
   "source": []
  }
 ],
 "metadata": {
  "kernelspec": {
   "display_name": "Python 3",
   "language": "python",
   "name": "python3"
  },
  "language_info": {
   "codemirror_mode": {
    "name": "ipython",
    "version": 3
   },
   "file_extension": ".py",
   "mimetype": "text/x-python",
   "name": "python",
   "nbconvert_exporter": "python",
   "pygments_lexer": "ipython3",
   "version": "3.6.9"
  }
 },
 "nbformat": 4,
 "nbformat_minor": 2
}
